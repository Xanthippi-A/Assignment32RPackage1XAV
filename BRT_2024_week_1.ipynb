{
  "nbformat": 4,
  "nbformat_minor": 0,
  "metadata": {
    "colab": {
      "provenance": [],
      "include_colab_link": true
    },
    "kernelspec": {
      "name": "python3",
      "display_name": "Python 3"
    },
    "language_info": {
      "name": "python"
    }
  },
  "cells": [
    {
      "cell_type": "markdown",
      "metadata": {
        "id": "view-in-github",
        "colab_type": "text"
      },
      "source": [
        "<a href=\"https://colab.research.google.com/github/Xanthippi-A/Assignment32RPackage1XAV/blob/main/BRT_2024_week_1.ipynb\" target=\"_parent\"><img src=\"https://colab.research.google.com/assets/colab-badge.svg\" alt=\"Open In Colab\"/></a>"
      ]
    },
    {
      "cell_type": "markdown",
      "source": [
        "# Behavioural Research Toolbox 2024, Week 1 Python code\n",
        "by Michael D. Nunez, 02-September-2024\n",
        "\n",
        "Important: **Copy and save this Colab notebook to edit it**\n",
        "\n",
        "\n",
        "\n",
        "## Install and load Python modules\n",
        "\n",
        "Use the ! in Google Colab to access the linux terminal to install Python modules with pip"
      ],
      "metadata": {
        "id": "laq5QouYeZBz"
      }
    },
    {
      "cell_type": "code",
      "execution_count": null,
      "metadata": {
        "id": "V7EfZG-VY1y1",
        "colab": {
          "base_uri": "https://localhost:8080/"
        },
        "outputId": "2739b7fe-21a7-42e0-9b45-43a2147d13d8"
      },
      "outputs": [
        {
          "output_type": "stream",
          "name": "stdout",
          "text": [
            "Collecting pingouin\n",
            "  Downloading pingouin-0.5.4-py2.py3-none-any.whl.metadata (1.1 kB)\n",
            "Requirement already satisfied: numpy in /usr/local/lib/python3.10/dist-packages (from pingouin) (1.26.4)\n",
            "Requirement already satisfied: scipy in /usr/local/lib/python3.10/dist-packages (from pingouin) (1.13.1)\n",
            "Requirement already satisfied: pandas>=1.5 in /usr/local/lib/python3.10/dist-packages (from pingouin) (2.1.4)\n",
            "Requirement already satisfied: matplotlib in /usr/local/lib/python3.10/dist-packages (from pingouin) (3.7.1)\n",
            "Requirement already satisfied: seaborn in /usr/local/lib/python3.10/dist-packages (from pingouin) (0.13.1)\n",
            "Requirement already satisfied: statsmodels in /usr/local/lib/python3.10/dist-packages (from pingouin) (0.14.2)\n",
            "Requirement already satisfied: scikit-learn in /usr/local/lib/python3.10/dist-packages (from pingouin) (1.3.2)\n",
            "Collecting pandas-flavor (from pingouin)\n",
            "  Downloading pandas_flavor-0.6.0-py3-none-any.whl.metadata (6.3 kB)\n",
            "Requirement already satisfied: tabulate in /usr/local/lib/python3.10/dist-packages (from pingouin) (0.9.0)\n",
            "Requirement already satisfied: python-dateutil>=2.8.2 in /usr/local/lib/python3.10/dist-packages (from pandas>=1.5->pingouin) (2.8.2)\n",
            "Requirement already satisfied: pytz>=2020.1 in /usr/local/lib/python3.10/dist-packages (from pandas>=1.5->pingouin) (2024.1)\n",
            "Requirement already satisfied: tzdata>=2022.1 in /usr/local/lib/python3.10/dist-packages (from pandas>=1.5->pingouin) (2024.1)\n",
            "Requirement already satisfied: contourpy>=1.0.1 in /usr/local/lib/python3.10/dist-packages (from matplotlib->pingouin) (1.2.1)\n",
            "Requirement already satisfied: cycler>=0.10 in /usr/local/lib/python3.10/dist-packages (from matplotlib->pingouin) (0.12.1)\n",
            "Requirement already satisfied: fonttools>=4.22.0 in /usr/local/lib/python3.10/dist-packages (from matplotlib->pingouin) (4.53.1)\n",
            "Requirement already satisfied: kiwisolver>=1.0.1 in /usr/local/lib/python3.10/dist-packages (from matplotlib->pingouin) (1.4.5)\n",
            "Requirement already satisfied: packaging>=20.0 in /usr/local/lib/python3.10/dist-packages (from matplotlib->pingouin) (24.1)\n",
            "Requirement already satisfied: pillow>=6.2.0 in /usr/local/lib/python3.10/dist-packages (from matplotlib->pingouin) (9.4.0)\n",
            "Requirement already satisfied: pyparsing>=2.3.1 in /usr/local/lib/python3.10/dist-packages (from matplotlib->pingouin) (3.1.4)\n",
            "Requirement already satisfied: xarray in /usr/local/lib/python3.10/dist-packages (from pandas-flavor->pingouin) (2024.6.0)\n",
            "Requirement already satisfied: joblib>=1.1.1 in /usr/local/lib/python3.10/dist-packages (from scikit-learn->pingouin) (1.4.2)\n",
            "Requirement already satisfied: threadpoolctl>=2.0.0 in /usr/local/lib/python3.10/dist-packages (from scikit-learn->pingouin) (3.5.0)\n",
            "Requirement already satisfied: patsy>=0.5.6 in /usr/local/lib/python3.10/dist-packages (from statsmodels->pingouin) (0.5.6)\n",
            "Requirement already satisfied: six in /usr/local/lib/python3.10/dist-packages (from patsy>=0.5.6->statsmodels->pingouin) (1.16.0)\n",
            "Downloading pingouin-0.5.4-py2.py3-none-any.whl (198 kB)\n",
            "\u001b[2K   \u001b[90m━━━━━━━━━━━━━━━━━━━━━━━━━━━━━━━━━━━━━━━━\u001b[0m \u001b[32m198.9/198.9 kB\u001b[0m \u001b[31m2.1 MB/s\u001b[0m eta \u001b[36m0:00:00\u001b[0m\n",
            "\u001b[?25hDownloading pandas_flavor-0.6.0-py3-none-any.whl (7.2 kB)\n",
            "Installing collected packages: pandas-flavor, pingouin\n",
            "Successfully installed pandas-flavor-0.6.0 pingouin-0.5.4\n",
            "Requirement already satisfied: pingouin in /usr/local/lib/python3.10/dist-packages (0.5.4)\n",
            "Requirement already satisfied: numpy in /usr/local/lib/python3.10/dist-packages (from pingouin) (1.26.4)\n",
            "Requirement already satisfied: scipy in /usr/local/lib/python3.10/dist-packages (from pingouin) (1.13.1)\n",
            "Requirement already satisfied: pandas>=1.5 in /usr/local/lib/python3.10/dist-packages (from pingouin) (2.1.4)\n",
            "Requirement already satisfied: matplotlib in /usr/local/lib/python3.10/dist-packages (from pingouin) (3.7.1)\n",
            "Requirement already satisfied: seaborn in /usr/local/lib/python3.10/dist-packages (from pingouin) (0.13.1)\n",
            "Requirement already satisfied: statsmodels in /usr/local/lib/python3.10/dist-packages (from pingouin) (0.14.2)\n",
            "Requirement already satisfied: scikit-learn in /usr/local/lib/python3.10/dist-packages (from pingouin) (1.3.2)\n",
            "Requirement already satisfied: pandas-flavor in /usr/local/lib/python3.10/dist-packages (from pingouin) (0.6.0)\n",
            "Requirement already satisfied: tabulate in /usr/local/lib/python3.10/dist-packages (from pingouin) (0.9.0)\n",
            "Requirement already satisfied: python-dateutil>=2.8.2 in /usr/local/lib/python3.10/dist-packages (from pandas>=1.5->pingouin) (2.8.2)\n",
            "Requirement already satisfied: pytz>=2020.1 in /usr/local/lib/python3.10/dist-packages (from pandas>=1.5->pingouin) (2024.1)\n",
            "Requirement already satisfied: tzdata>=2022.1 in /usr/local/lib/python3.10/dist-packages (from pandas>=1.5->pingouin) (2024.1)\n",
            "Requirement already satisfied: contourpy>=1.0.1 in /usr/local/lib/python3.10/dist-packages (from matplotlib->pingouin) (1.2.1)\n",
            "Requirement already satisfied: cycler>=0.10 in /usr/local/lib/python3.10/dist-packages (from matplotlib->pingouin) (0.12.1)\n",
            "Requirement already satisfied: fonttools>=4.22.0 in /usr/local/lib/python3.10/dist-packages (from matplotlib->pingouin) (4.53.1)\n",
            "Requirement already satisfied: kiwisolver>=1.0.1 in /usr/local/lib/python3.10/dist-packages (from matplotlib->pingouin) (1.4.5)\n",
            "Requirement already satisfied: packaging>=20.0 in /usr/local/lib/python3.10/dist-packages (from matplotlib->pingouin) (24.1)\n",
            "Requirement already satisfied: pillow>=6.2.0 in /usr/local/lib/python3.10/dist-packages (from matplotlib->pingouin) (9.4.0)\n",
            "Requirement already satisfied: pyparsing>=2.3.1 in /usr/local/lib/python3.10/dist-packages (from matplotlib->pingouin) (3.1.4)\n",
            "Requirement already satisfied: xarray in /usr/local/lib/python3.10/dist-packages (from pandas-flavor->pingouin) (2024.6.0)\n",
            "Requirement already satisfied: joblib>=1.1.1 in /usr/local/lib/python3.10/dist-packages (from scikit-learn->pingouin) (1.4.2)\n",
            "Requirement already satisfied: threadpoolctl>=2.0.0 in /usr/local/lib/python3.10/dist-packages (from scikit-learn->pingouin) (3.5.0)\n",
            "Requirement already satisfied: patsy>=0.5.6 in /usr/local/lib/python3.10/dist-packages (from statsmodels->pingouin) (0.5.6)\n",
            "Requirement already satisfied: six in /usr/local/lib/python3.10/dist-packages (from patsy>=0.5.6->statsmodels->pingouin) (1.16.0)\n"
          ]
        }
      ],
      "source": [
        "!pip install pingouin\n",
        "!pip install --user --upgrade pingouin"
      ]
    },
    {
      "cell_type": "markdown",
      "source": [
        "Always run the following lines after reloading this notebook. You may also need to rerun the install line above if the Colab *runtime* is deleted."
      ],
      "metadata": {
        "id": "Bxt2t65MfAsi"
      }
    },
    {
      "cell_type": "code",
      "source": [
        "import numpy as np\n",
        "from scipy import stats\n",
        "import statsmodels.api as sm\n",
        "import pingouin as pg\n",
        "import matplotlib.pyplot as plt\n",
        "import math as math\n"
      ],
      "metadata": {
        "id": "6W1uCjxRedIF"
      },
      "execution_count": null,
      "outputs": []
    },
    {
      "cell_type": "markdown",
      "source": [
        "# Slide 20"
      ],
      "metadata": {
        "id": "muYHuxskfaQl"
      }
    },
    {
      "cell_type": "code",
      "source": [
        "np.random.seed(1)"
      ],
      "metadata": {
        "id": "uw9YmROzfb9V"
      },
      "execution_count": null,
      "outputs": []
    },
    {
      "cell_type": "markdown",
      "source": [
        "# Slide 23"
      ],
      "metadata": {
        "id": "Q7u-yqX_giEL"
      }
    },
    {
      "cell_type": "code",
      "source": [
        "n = 100000  # number of throws\n",
        "counter = 0  # initialize counter\n",
        "for i in range(n):  # for loop in Python, note that the spaces are important within the for loop\n",
        "    x = np.random.choice(np.arange(1, 7), 3)  # Note that Python indexing is strange\n",
        "    if np.std(x) == 0:  # Note that np.std(x) == 0 is just one of many ways to check for poker\n",
        "        counter += 1\n",
        "print(counter / n)  # probability of a poker\n",
        "print(1 / 36)  # mathematical solution"
      ],
      "metadata": {
        "id": "Edy1BLEcglSC",
        "colab": {
          "base_uri": "https://localhost:8080/"
        },
        "outputId": "61361a08-58a9-449c-8978-ff6e3b333ed1"
      },
      "execution_count": null,
      "outputs": [
        {
          "output_type": "stream",
          "name": "stdout",
          "text": [
            "0.02782\n",
            "0.027777777777777776\n"
          ]
        }
      ]
    },
    {
      "cell_type": "markdown",
      "source": [
        "# Slide 27"
      ],
      "metadata": {
        "id": "TDBLnZLXhgKl"
      }
    },
    {
      "cell_type": "code",
      "source": [
        "# stats.norm.rvs, stats.norm.cdf, stats.norm.pdf, stats.norm.ppf\n",
        "\n",
        "# From uniform distribution\n",
        "plt.figure()\n",
        "plt.hist(stats.uniform.rvs(0, 1, size=100))\n",
        "\n",
        "# Binomial distribution\n",
        "stats.binom.rvs(n=1, p=.5, size=100)\n",
        "\n",
        "# Normal distribution\n",
        "stats.norm.rvs(loc=0, scale=1, size=100)\n",
        "\n",
        "# Other distributions\n",
        "# stats.[expon,beta,chi2,gamma].rvs\n",
        "# ?stats"
      ],
      "metadata": {
        "id": "rA4RfLAPhiM9",
        "colab": {
          "base_uri": "https://localhost:8080/",
          "height": 784
        },
        "outputId": "539daf98-3c63-4332-af59-53792910383b"
      },
      "execution_count": null,
      "outputs": [
        {
          "output_type": "execute_result",
          "data": {
            "text/plain": [
              "array([ 0.96310219,  0.64828753, -1.68094615, -0.72437311,  0.90415748,\n",
              "       -0.22009954,  2.03557369,  0.22044112, -0.21709873,  0.53971209,\n",
              "       -0.87143479, -0.50147254, -1.70247302,  0.59056783,  0.91350013,\n",
              "       -0.3347032 ,  1.96210864, -0.95963619,  1.80540453, -0.04094851,\n",
              "       -0.46009027,  0.59615456, -1.28856373,  0.43452314,  0.73890751,\n",
              "       -0.0073191 ,  0.21829189, -1.17882718,  0.75892394, -0.32080182,\n",
              "        0.1259742 , -0.18389306, -1.10142264, -0.44977127, -0.23793642,\n",
              "        0.57898034,  0.10430133, -0.37624005, -0.8930101 , -1.08663085,\n",
              "        0.73602611, -0.04482029,  0.01884466, -0.39328063,  0.52952457,\n",
              "        1.22915978,  1.28025728,  1.63541799, -0.20988657,  0.23664249,\n",
              "        0.72295674, -0.24205153, -0.26605356, -0.35375137, -0.50751398,\n",
              "        1.55331641,  0.06981304,  0.46147868, -0.29668234, -0.94888325,\n",
              "       -0.42178205,  0.01310766, -1.24266162, -0.71498268, -0.09090513,\n",
              "       -0.78603172, -1.07852947, -1.23513589, -0.25941635,  0.24624443,\n",
              "        0.43116246,  0.36084961, -0.70521272,  0.58152386, -0.31812566,\n",
              "        1.48382719,  2.01898692,  1.29163133,  0.3416908 ,  1.79772842,\n",
              "        0.85139353, -0.1748839 ,  1.33994159, -0.00315604,  0.18585531,\n",
              "        0.80303922, -0.20042608,  0.7287922 , -0.55165725, -0.10627525,\n",
              "       -0.94227536,  1.53826373,  1.00241744, -0.61206925, -0.11538465,\n",
              "       -2.1709899 , -0.12959428,  0.17258279,  0.34385043,  1.17846898])"
            ]
          },
          "metadata": {},
          "execution_count": 7
        },
        {
          "output_type": "display_data",
          "data": {
            "text/plain": [
              "<Figure size 640x480 with 1 Axes>"
            ],
            "image/png": "[encoded data removed]"
          },
          "metadata": {}
        }
      ]
    },
    {
      "cell_type": "markdown",
      "source": [
        "# Slide 30"
      ],
      "metadata": {
        "id": "Fur_-yjXh_lt"
      }
    },
    {
      "cell_type": "code",
      "source": [
        "np.random.seed(1)\n",
        "x = stats.norm.rvs(loc=0.2, scale=1, size=100)\n",
        "np.savetxt('t_dataPy.txt', x, header='x')"
      ],
      "metadata": {
        "id": "3lt3M4Cgh-j8"
      },
      "execution_count": null,
      "outputs": []
    },
    {
      "cell_type": "markdown",
      "source": [
        "To see the file output, click the folder symbol on the left of the Colab page. It will be under the folder \"sample_data\". You can click the three dots to download it to your own computer, to then open it with JASP."
      ],
      "metadata": {
        "id": "I-ZTWhgiiIGc"
      }
    },
    {
      "cell_type": "markdown",
      "source": [
        "# Slide 31"
      ],
      "metadata": {
        "id": "qsbQ2mXJjCZm"
      }
    },
    {
      "cell_type": "code",
      "source": [
        "np.random.seed(2)\n",
        "x = stats.norm.rvs(loc=0.2, scale=1, size=100)"
      ],
      "metadata": {
        "id": "eldkvx4Bif_2"
      },
      "execution_count": null,
      "outputs": []
    },
    {
      "cell_type": "markdown",
      "source": [
        "# Slide 32"
      ],
      "metadata": {
        "id": "W1B-pY8RjXLn"
      }
    },
    {
      "cell_type": "code",
      "source": [
        "stats.norm.rvs(loc=0.0, scale=1.0, size=1000)\n",
        "# OR\n",
        "np.random.normal(loc=0.0, scale=1.0, size=1000)"
      ],
      "metadata": {
        "id": "4tvLiF-FjW2s",
        "colab": {
          "base_uri": "https://localhost:8080/"
        },
        "outputId": "41866e00-6d60-4a61-e9b8-18038413c100"
      },
      "execution_count": null,
      "outputs": [
        {
          "output_type": "execute_result",
          "data": {
            "text/plain": [
              "array([-1.07133422e+00,  5.58712720e-01,  1.68988128e+00, -3.78987788e-01,\n",
              "        2.05051189e-02, -1.11049256e+00, -8.72058999e-03, -9.15559063e-01,\n",
              "        1.67048688e-01,  1.54128788e+00,  5.17836157e-01, -7.25315353e-01,\n",
              "        7.98810309e-01, -1.72152952e+00,  1.20023885e+00,  2.96490384e-01,\n",
              "       -1.06440306e+00, -3.28244493e-01, -9.10869775e-01,  1.98216333e+00,\n",
              "        5.61164198e-01, -1.01107475e+00, -6.77100670e-01,  1.48227436e-01,\n",
              "       -5.78089149e-01,  2.23690285e-01,  3.66593198e-01, -1.45445982e+00,\n",
              "        5.99848461e-01,  1.65686924e+00,  3.06336304e-01,  6.07953437e-01,\n",
              "       -5.22741853e-01, -5.17912383e-01,  2.91613504e-01, -8.87197268e-01,\n",
              "       -1.61653540e+00,  8.12153853e-01, -6.56298843e-01,  2.03718473e-01,\n",
              "        1.00597410e-01,  3.94161045e-01,  5.83053676e-01,  5.11527325e-01,\n",
              "       -3.02847412e-01,  7.99970668e-01, -3.70369382e-01,  3.41522011e-01,\n",
              "       -6.30963268e-01,  6.96073116e-02, -8.60096091e-01,  1.37132047e+00,\n",
              "        3.11715964e-01, -7.41051372e-01, -1.79463257e+00, -7.34805875e-01,\n",
              "        1.28456605e+00, -6.54575865e-01,  9.60322208e-01, -2.32248532e-01,\n",
              "       -3.46823335e-01, -1.06581629e+00,  2.64578674e-01,  1.00494415e+00,\n",
              "        7.52270165e-01,  4.96796978e-01, -1.05750513e+00,  7.04338841e-02,\n",
              "       -1.16452680e+00, -8.76099244e-01,  3.34595699e-01, -1.09416655e+00,\n",
              "        4.45126882e-01, -3.52265899e-01,  1.38699011e+00, -2.05904387e-01,\n",
              "        4.36471660e-01,  9.43537566e-01,  5.19105557e-01,  5.71924156e-01,\n",
              "       -1.78770604e+00,  8.20371036e-01, -1.67702141e+00, -7.49026164e-01,\n",
              "       -2.51437871e+00, -4.15141970e-01, -7.52133256e-01, -3.24517891e-01,\n",
              "       -1.06451065e+00, -2.55827823e-01, -8.13825815e-01, -2.82296300e-01,\n",
              "        7.28236833e-01, -2.25593950e+00, -1.40628907e-01, -2.46087762e-01,\n",
              "       -1.63540643e+00, -5.28352987e-01,  1.32096631e+00,  2.68011784e-01,\n",
              "       -6.55806963e-01,  6.35647888e-01,  2.64483604e-01, -1.37207433e+00,\n",
              "       -4.57746593e-01, -1.34620650e-01, -7.67283950e-02,  2.51829046e-01,\n",
              "       -8.15141647e-02, -3.98935217e-02, -6.18693818e-01, -4.54537503e-01,\n",
              "       -6.04131869e-01,  4.20162940e-01, -2.02511382e-01, -6.67508253e-01,\n",
              "        6.64857358e-01,  2.33543799e+00, -2.21180426e-01,  1.18703642e+00,\n",
              "       -6.00098210e-01,  1.52156793e-01,  8.51183894e-01,  1.06932237e+00,\n",
              "        2.07937665e+00, -5.12493633e-01,  5.38438776e-02,  1.33041758e+00,\n",
              "        1.27932051e+00, -8.60216899e-01, -1.41815087e-02,  9.98358521e-01,\n",
              "        1.21820042e+00, -9.46168637e-01,  3.54670617e-01, -2.21666833e+00,\n",
              "        1.01329287e+00,  1.75773082e+00, -1.09266630e+00, -2.18256657e-01,\n",
              "       -1.41457866e+00, -4.58428186e-01,  5.42969244e-01,  5.85076044e-01,\n",
              "        4.05289456e-01, -1.38816848e+00, -8.41291023e-01,  1.86559550e+00,\n",
              "        2.31317117e-01, -4.24250858e-01,  2.52924116e-01, -5.78686417e-01,\n",
              "        1.65448270e-01, -7.62558584e-01, -6.72464147e-01, -1.56262755e+00,\n",
              "        1.75149678e+00,  7.19334678e-01,  6.24554046e-01,  8.69421014e-01,\n",
              "       -1.23473846e-01, -1.07958393e+00,  5.13065067e-01,  6.90742081e-01,\n",
              "        5.38393614e-01, -3.89118791e-01, -1.50707588e+00,  7.94009451e-01,\n",
              "        4.12146107e-01, -5.67465200e-02, -2.31419038e-01, -1.26224484e-01,\n",
              "       -5.58316433e-01, -1.46758142e+00, -1.03648980e-01, -4.28594653e-01,\n",
              "        3.21505928e-01, -3.06709811e-01,  2.87316888e-01, -1.20136584e+00,\n",
              "        4.53914584e-01,  2.06871088e+00, -9.59582701e-02,  6.30971562e-01,\n",
              "        8.77511898e-01,  3.57746927e-01,  2.45141985e-01, -1.55394835e+00,\n",
              "       -8.12016532e-01,  1.54633872e+00,  2.08003020e-01,  2.14759519e-01,\n",
              "        1.94295564e+00, -1.70604106e+00,  1.05569157e+00,  6.55032131e-01,\n",
              "       -1.93962969e+00, -6.27642287e-01,  4.29177572e-01, -6.97148356e-01,\n",
              "       -7.59225342e-01,  6.10437761e-01, -1.83357306e-01,  1.94335886e-01,\n",
              "       -1.57068601e-01,  1.38419018e-01,  3.07220589e-01,  2.21314957e+00,\n",
              "        4.09261661e-01, -6.96114123e-01,  3.85979319e-01,  2.63919298e-01,\n",
              "        3.31068006e+00, -1.41686742e+00,  6.96616661e-01,  2.64611513e-01,\n",
              "        1.53435546e+00, -1.01569295e+00, -1.22660305e+00,  3.56301816e-01,\n",
              "        8.41614444e-01,  4.44285562e-01,  6.36712153e-01, -4.12784864e-02,\n",
              "        1.00723561e+00,  1.32660382e-01, -4.99858779e-01,  1.47123230e+00,\n",
              "       -8.58536077e-01, -1.59890490e+00, -3.91583809e-01, -1.34473013e-01,\n",
              "       -6.18299396e-02, -2.96672009e-01,  3.77759170e-01, -3.36771640e-01,\n",
              "       -8.66125607e-01,  1.40052248e+00, -1.71726246e-01,  1.09542776e+00,\n",
              "        1.76218443e-01,  4.87577809e-01,  1.54387660e+00, -1.85275933e+00,\n",
              "        1.12832674e+00,  6.69971470e-02,  8.74328164e-01, -4.46666677e-01,\n",
              "        1.01765529e-02, -1.51390076e-01, -1.09941212e+00, -6.16865355e-02,\n",
              "        1.81053166e+00,  1.27355579e+00,  1.40498787e+00, -2.23100669e-01,\n",
              "       -1.73188201e-01, -4.39585186e-01, -2.05344711e+00, -2.38014880e-01,\n",
              "       -7.44193863e-01,  8.75010653e-01,  9.32841896e-01,  4.39776382e-01,\n",
              "       -8.88806544e-01, -5.90677952e-01,  1.34486048e+00,  3.27631080e-01,\n",
              "        1.01020518e+00, -4.42735237e-01,  9.69005189e-01, -3.20691177e-01,\n",
              "       -4.80685376e-01,  2.74699957e-01, -7.19348819e-01, -1.14535543e+00,\n",
              "        1.36432789e+00,  6.97773876e-01, -4.68756473e-01, -1.72716224e-02,\n",
              "        1.13487577e+00, -5.08924537e-01, -2.41496869e+00,  2.26727390e+00,\n",
              "       -1.46895802e+00, -4.55944752e-01, -2.19190798e+00, -2.20002199e+00,\n",
              "        3.27543724e-01, -1.31116809e+00,  6.33082710e-01, -1.59126565e-01,\n",
              "       -1.66070880e-01,  6.15304213e-01,  6.51916288e-01,  1.35929437e+00,\n",
              "       -1.38258841e+00, -7.46318990e-01,  6.72765259e-01,  7.66744294e-01,\n",
              "       -5.36743869e-01, -1.23253914e+00,  2.88741056e-03, -2.99676160e+00,\n",
              "       -1.67870974e+00,  1.12188660e+00, -1.29114905e+00,  2.04091775e+00,\n",
              "        1.14107245e-01,  2.67248091e-01,  2.69542736e+00,  8.97839682e-01,\n",
              "       -3.19745842e-01, -5.57114597e-01, -6.45832891e-01, -2.06690190e+00,\n",
              "        3.66968098e-01,  2.07140834e-02, -6.92898267e-01,  8.69400177e-01,\n",
              "       -6.10449608e-01, -1.77091213e+00, -1.11816096e+00, -7.04770509e-02,\n",
              "        2.93657771e-01,  1.84395665e+00, -4.26570804e-01,  4.88540387e-01,\n",
              "        9.85167990e-01,  5.68160319e-01,  2.62205386e-01, -1.16830786e+00,\n",
              "       -4.27350936e-01,  2.13124649e+00,  1.40154172e-01, -7.13935219e-02,\n",
              "       -1.20007711e+00,  2.14527121e-01,  1.68942867e+00, -6.31962477e-01,\n",
              "       -9.57559083e-01, -1.03476441e-01, -5.37493720e-01, -7.00781335e-01,\n",
              "        2.11546518e+00,  7.26787324e-01, -1.47674408e+00, -1.21852120e-01,\n",
              "        8.58199428e-01, -3.62255988e-01,  7.45904787e-01, -1.19981815e+00,\n",
              "        4.55429861e-01, -1.14894528e-01,  4.97384944e-01, -1.26066033e-01,\n",
              "       -7.26032272e-01,  3.26817200e-01,  3.92172844e-01,  5.78760993e-01,\n",
              "       -1.43287274e+00, -5.68115631e-01, -2.94323244e-01, -3.51826978e-01,\n",
              "       -4.37132565e-01,  1.76715211e-02,  1.28602076e+00,  1.64794463e+00,\n",
              "        1.09170863e+00,  4.74160853e-01, -3.32687011e+00, -7.22066700e-01,\n",
              "        4.66792024e-01, -9.86960466e-01,  1.04992573e+00, -7.33519814e-01,\n",
              "        8.75473432e-02, -5.04842487e-01,  1.95782994e-01, -1.50704026e+00,\n",
              "       -3.75393203e-01, -9.23135898e-01, -1.16481133e+00, -1.70244568e+00,\n",
              "        9.09282937e-01, -1.18210537e+00,  6.41468129e-01, -2.19038077e-01,\n",
              "        3.76647110e-01, -1.02918255e-01, -1.40029552e-01, -1.35267752e+00,\n",
              "        2.55113812e+00,  9.44089847e-01,  8.87588793e-01, -2.31114832e+00,\n",
              "       -7.85046131e-01, -8.34664675e-01,  7.66489019e-02, -7.94723830e-01,\n",
              "        5.14029098e-01, -1.22620283e-02,  6.81603972e-01,  1.00649322e+00,\n",
              "       -9.42034612e-01, -7.33425066e-01, -1.03524971e+00,  7.08527533e-01,\n",
              "       -2.18617880e-01, -5.55780145e-01, -1.39048717e+00,  2.36018411e-01,\n",
              "       -1.41523374e-01, -1.18557282e-02, -4.79614255e-01, -1.56200761e+00,\n",
              "        1.12984841e+00, -1.17758569e-01,  1.31833203e-01, -8.59558174e-01,\n",
              "        1.20922075e+00, -9.43725883e-01, -5.87679346e-01, -1.00261655e+00,\n",
              "       -1.22277891e+00,  6.45943205e-01, -5.82930106e-01, -1.15144769e+00,\n",
              "       -2.84261654e-01, -4.12355236e-01, -8.72364470e-02, -6.98066940e-01,\n",
              "        1.15066247e-01, -1.76909654e+00, -1.02907208e+00,  5.87929595e-01,\n",
              "        7.15457605e-01, -1.89263523e+00,  2.52308225e-01, -1.57309227e-01,\n",
              "        1.02499614e+00, -1.16426019e+00,  2.64522755e-01,  7.25862326e-01,\n",
              "       -1.47456367e+00, -7.71103241e-01,  8.20559975e-01, -3.37853693e-01,\n",
              "        7.77865153e-01,  5.57027918e-02, -1.47816349e+00, -2.11115993e-03,\n",
              "        2.81048152e-01, -6.59016404e-01,  9.17123928e-01, -1.41396055e+00,\n",
              "       -1.56552262e-01, -4.22178147e-01, -9.11519618e-01, -1.55003603e+00,\n",
              "       -2.12077334e+00, -1.32161204e+00, -2.78885368e-01, -6.75848505e-01,\n",
              "       -2.52668207e-01, -3.28424621e-01, -5.62310810e-01,  1.17913583e-01,\n",
              "        7.38637797e-01, -1.58729558e+00,  1.53200116e-01, -1.73366932e+00,\n",
              "        2.08305931e+00, -1.01913313e+00, -4.84130341e-01,  7.65396950e-01,\n",
              "        3.18320734e-01,  8.32443166e-01,  1.31447493e+00, -3.90998325e-01,\n",
              "        1.86979861e+00, -7.29382636e-01, -3.73420874e-01,  7.85658779e-01,\n",
              "       -2.41313834e+00, -7.12704604e-01, -2.98725843e-01,  7.38017077e-01,\n",
              "       -7.81799223e-01,  7.69027396e-01, -1.11258905e+00,  8.97459973e-01,\n",
              "        6.87336055e-01, -5.74312596e-01, -3.51200955e-01, -2.58267082e-01,\n",
              "       -4.49673148e-01, -6.38824780e-01,  1.28236515e+00,  3.49157627e-01,\n",
              "        3.80548860e-01, -1.60231424e+00, -9.72529201e-02,  1.02001166e+00,\n",
              "        5.78805505e-02, -5.86767901e-01, -1.62019511e-01,  7.34518919e-01,\n",
              "       -2.34930241e-01, -2.16985030e+00, -8.26101357e-01,  7.94243273e-02,\n",
              "       -1.61617560e+00, -6.48219920e-02,  3.99266324e-01,  2.14689037e+00,\n",
              "        1.38657667e+00,  3.20775413e-01, -1.82835538e+00,  2.26272384e-01,\n",
              "       -1.50773238e+00, -1.10993298e+00,  1.04280504e+00, -8.42104645e-01,\n",
              "        6.06839911e-01,  1.33074924e-01,  8.65057386e-01, -2.43979988e-01,\n",
              "       -2.09375707e-01,  1.47334365e+00,  6.43256278e-01,  3.14443734e-01,\n",
              "       -3.15473729e-02,  5.21806971e-01, -1.46394642e-01,  5.73342909e-01,\n",
              "       -1.24749724e-01, -1.72995021e+00, -1.68938776e+00, -6.93947037e-01,\n",
              "        1.97135659e+00,  1.35882201e+00, -4.12418661e-01, -8.20498670e-01,\n",
              "       -5.15621728e-01, -2.37564393e-01,  1.19437079e+00, -5.87757621e-01,\n",
              "       -1.50483396e+00, -5.26465922e-01, -1.22708622e+00,  1.48818059e+00,\n",
              "       -1.66973839e-01,  7.90930947e-02, -6.56723819e-02, -1.96049042e+00,\n",
              "        2.24367154e-01,  4.72259801e-01, -4.26200135e-01,  3.39348084e-01,\n",
              "       -3.63224518e-01, -1.20838276e-01,  7.81890733e-01, -4.18840872e-01,\n",
              "        4.92485500e-01,  7.12798709e-02, -9.27148478e-03, -5.16628393e-01,\n",
              "       -7.25013762e-01, -6.17196049e-03,  1.18338662e+00,  3.74756570e-01,\n",
              "        1.19990867e+00,  1.99509556e-02, -1.57614758e+00,  1.18048814e+00,\n",
              "       -5.35452560e-02,  1.10427594e+00,  7.56558093e-01,  8.49018474e-01,\n",
              "        4.56305871e-01, -2.95375555e+00,  8.37502891e-01,  2.90407170e-01,\n",
              "        7.61448403e-01,  9.02256391e-01,  3.31843938e-01,  6.62951120e-01,\n",
              "       -1.44567507e+00,  1.08533474e-01,  7.18677284e-01,  6.60000514e-01,\n",
              "       -8.75052799e-01, -1.83235847e+00, -5.99745233e-01,  4.65106727e-02,\n",
              "        2.74866421e-01,  1.63545167e+00,  1.23956381e+00, -7.39546351e-01,\n",
              "        6.31319164e-01, -4.10908984e-01,  7.93201847e-01, -6.71774891e-01,\n",
              "        1.29559755e+00, -5.52806678e-01, -3.58372477e-01, -9.20080591e-01,\n",
              "        8.16667130e-01,  6.58224105e-02,  4.27641038e-01,  7.45140622e-01,\n",
              "       -8.38512443e-01,  1.65815263e+00,  7.71347741e-01,  2.34156874e-01,\n",
              "        2.02709233e-03, -2.54233413e-01, -5.28475896e-01,  9.22512320e-01,\n",
              "        1.95572315e-01, -1.82250824e-02, -5.52990513e-01,  1.72440202e-01,\n",
              "        2.04129752e+00,  4.63754268e-01, -1.97987527e+00, -2.29947147e+00,\n",
              "        7.13834856e-01, -1.36992192e+00,  2.90008322e-01,  6.24275681e-01,\n",
              "        6.95993405e-01,  1.98607508e+00, -3.94932830e-01,  2.29034874e-01,\n",
              "       -5.92453890e-01, -1.28993342e+00, -7.68469840e-01,  1.45899947e+00,\n",
              "        1.46947905e+00, -8.03987770e-01,  8.14497238e-01, -1.63683320e-01,\n",
              "        9.05418365e-01, -8.74857974e-01,  3.25121105e-01,  1.54258131e-01,\n",
              "       -8.61903077e-01, -5.45905740e-01, -4.83159940e-01,  3.11582032e-02,\n",
              "        1.68374384e+00,  1.61465895e+00,  1.62462563e+00,  6.25723460e-01,\n",
              "        9.92358985e-01, -9.62698535e-01,  8.61692233e-02,  1.14072210e+00,\n",
              "        3.88983734e-01, -6.26927027e-01,  5.16895674e-01,  2.50624320e-01,\n",
              "        2.17429984e-01, -5.03624682e-01,  7.07360540e-01, -1.24274145e-01,\n",
              "       -7.30243008e-01,  2.93594446e-02,  6.11436375e-01,  1.39115616e+00,\n",
              "        1.18697146e+00, -1.72090499e+00,  1.09997451e+00,  6.12677491e-01,\n",
              "        5.17375773e-01,  1.43387829e+00,  1.73405854e+00,  7.14857338e-01,\n",
              "       -5.61430750e-02, -4.81296041e-01,  2.85441438e-01,  4.60008897e-01,\n",
              "       -6.16586819e-01,  1.80765297e+00,  1.61980669e+00,  9.53262882e-01,\n",
              "        1.99396630e+00,  9.83320232e-01, -2.73022746e-01,  9.90491724e-01,\n",
              "        2.11470299e+00, -1.41107743e-01, -1.18287840e+00,  1.06431088e+00,\n",
              "       -1.62234423e+00, -9.27679170e-01,  4.45539198e-01, -3.23923448e-01,\n",
              "        1.80431210e+00,  9.63963145e-02,  7.20144061e-01,  1.19571571e+00,\n",
              "        1.33329378e-01,  5.98217003e-01, -1.72998057e+00,  2.11130412e+00,\n",
              "        1.67013098e-01, -1.88090941e-01, -5.58386976e-01,  2.72089879e-01,\n",
              "       -5.37743388e-01,  2.63226765e-01, -6.03512041e-01, -1.39325218e+00,\n",
              "       -7.35139128e-01, -7.95681081e-01,  4.02079272e-01,  1.48342309e-01,\n",
              "       -4.95025655e-01,  3.37514713e-01, -6.17450710e-01, -3.43798825e-02,\n",
              "       -2.79145113e-01,  4.17702341e-01, -8.72104942e-01, -1.46454942e-01,\n",
              "       -3.08803259e-02, -1.09157204e+00,  5.15275834e-02, -4.29269176e-02,\n",
              "        9.20703706e-01, -1.10121148e+00, -1.45398081e+00, -1.61194249e+00,\n",
              "        2.13721934e-01, -5.33342102e-01, -9.88778055e-01,  2.36391447e-01,\n",
              "        8.56982222e-01,  1.87847171e+00,  1.23498191e+00, -6.44955735e-01,\n",
              "        1.44645046e+00, -7.45333080e-01,  4.18266411e-01,  7.71017993e-01,\n",
              "       -1.46882189e+00,  1.32924055e-01,  9.72856085e-02,  2.17874851e+00,\n",
              "       -6.03700225e-01,  7.55337068e-01, -1.73212857e-01,  8.40949100e-02,\n",
              "       -9.28948946e-01,  9.80030839e-01,  1.24523718e+00,  1.18741375e+00,\n",
              "       -1.69949177e+00, -1.85328887e+00, -7.34865473e-02,  1.12739392e+00,\n",
              "        8.02763690e-01, -2.57192584e-01, -6.88451071e-01,  1.67560830e+00,\n",
              "        1.41862775e+00, -7.30200383e-01, -6.44526728e-02, -9.36542906e-02,\n",
              "        2.07522733e+00,  7.06245616e-01,  1.12327230e+00, -8.74364097e-01,\n",
              "        2.77680964e-01, -1.05050304e-01,  1.50000765e-01,  4.08799894e-01,\n",
              "       -6.99778087e-02, -1.05423963e+00,  1.16266041e+00, -9.38059354e-01,\n",
              "       -7.89415011e-01, -1.83568573e+00,  3.52612738e-01,  1.25623099e-01,\n",
              "       -6.57416896e-01, -8.67991477e-01,  1.68422689e-01, -2.95238824e-01,\n",
              "       -1.02542867e+00,  4.53053076e-01,  9.05844656e-01,  3.65941147e-01,\n",
              "        8.46912218e-01,  2.44431832e-01,  1.54626352e+00,  9.09783573e-01,\n",
              "       -3.30794622e-01,  1.10184103e+00,  3.65958983e-01, -5.02501808e-01,\n",
              "       -6.63418746e-01, -2.82887072e-01, -1.94460578e+00, -7.49510531e-01,\n",
              "       -4.83122549e-01, -1.53308025e+00, -8.61443256e-01, -9.80078168e-01,\n",
              "       -1.52938309e+00, -1.34761076e-01,  2.09160826e-01,  3.44650832e-01,\n",
              "        1.13876106e+00, -1.72536252e-01, -4.75762193e-01,  5.11447716e-03,\n",
              "        1.24759493e+00,  1.58680222e+00, -5.54210621e-01,  4.02743838e-01,\n",
              "       -1.51177581e-01,  5.75325486e-01, -2.43116919e+00, -4.19791096e-01,\n",
              "       -1.86630601e+00, -3.13654710e+00,  3.79628185e-01, -9.18960286e-01,\n",
              "        1.28602835e+00,  7.88292401e-01,  1.26214304e+00,  8.23994212e-01,\n",
              "       -4.59354567e-01,  3.77280759e-01, -1.50749953e+00, -1.20356361e+00,\n",
              "        5.00022961e-01,  1.78789825e+00,  2.18615758e-01, -1.12495562e+00,\n",
              "       -7.13082469e-02,  6.06458876e-01,  1.02957404e+00,  1.56563173e-01,\n",
              "        1.73476268e+00,  1.08877063e+00,  4.09076606e-01, -3.42812704e-01,\n",
              "        2.41525678e+00, -4.27943340e-01, -2.99833745e-01, -9.07183180e-01,\n",
              "        2.61504336e-01, -1.74238469e+00,  5.50138016e-01, -1.62522350e+00,\n",
              "        6.51393653e-01, -1.45813775e+00, -1.30300508e+00, -7.92271187e-01,\n",
              "        1.52710259e-01, -2.70308336e-01, -1.04215873e+00, -2.26523826e-01,\n",
              "        5.34681956e-01, -1.84519456e+00,  1.23727897e+00, -5.91674707e-02,\n",
              "       -2.69960552e+00,  1.21777542e-01, -2.34788946e-01, -4.90382380e-01,\n",
              "       -3.75520372e-01, -4.55900773e-01,  7.35720697e-01,  1.73225510e-01,\n",
              "        5.98727610e-01, -2.35633533e-01,  1.28584584e+00, -1.67111159e-01,\n",
              "        5.86649398e-01, -1.68859849e-01, -1.47406647e-01,  8.93030313e-01,\n",
              "        8.45291816e-01,  6.35560476e-02,  1.32500907e-01, -3.45992421e-01,\n",
              "        6.54586786e-01,  3.66135914e-01,  8.61961148e-01,  2.24029150e-01,\n",
              "        1.06052964e-02,  8.68513222e-01, -1.21852764e-01,  7.56221565e-01,\n",
              "        1.03992104e+00,  1.48084905e+00,  2.05925457e-01,  3.11435878e-01,\n",
              "        9.40452800e-01,  1.75641625e-01,  6.06701278e-01,  2.05219642e-01,\n",
              "        2.09366979e-02, -6.39720755e-01,  2.27257129e-01,  6.53045414e-01,\n",
              "        3.39473804e-01, -1.55026091e-01,  3.37138859e-01,  1.58054462e+00,\n",
              "        9.39481151e-02, -5.19781047e-01,  1.75985301e+00, -3.64508869e-01,\n",
              "        1.60001031e+00,  6.72762123e-01, -1.19842260e+00, -3.60137871e-02,\n",
              "       -7.20816156e-02, -8.29343901e-02, -1.04696461e-01,  8.10093545e-01,\n",
              "        5.16525604e-01,  1.52498227e+00, -4.19271431e-02,  1.02547301e-01,\n",
              "        8.46533777e-01,  1.12635334e-01, -2.13951533e-01,  5.26421802e-01,\n",
              "       -7.71161872e-01, -9.07601574e-01, -2.59497163e-01,  7.30710950e-01,\n",
              "        1.02013519e+00, -7.77907705e-01, -3.36917627e-01,  5.24232262e-01,\n",
              "        4.39394978e-01, -6.17201725e-01,  1.04554209e+00, -1.05931836e-01,\n",
              "        7.07212456e-02, -4.64958307e-01,  1.24925579e+00,  1.20681107e+00,\n",
              "       -6.90856449e-02,  1.36990741e+00,  1.15388864e+00,  8.32250444e-01,\n",
              "        1.29397574e-01,  9.98864038e-01, -4.88081722e-01, -3.41048712e-01,\n",
              "       -1.05747024e-01,  7.07982624e-01,  1.39468992e+00, -1.68215888e+00,\n",
              "        2.14391664e-02, -6.19083032e-01,  5.82945125e-01, -1.21135854e+00,\n",
              "        1.82961984e+00, -4.43620043e-01,  1.48176881e+00, -1.12891946e+00,\n",
              "        5.88052712e-01,  1.69204353e+00,  1.34456723e+00, -1.02372004e+00,\n",
              "       -1.06419272e+00, -1.45437161e+00,  5.23477168e-01, -1.39665984e+00,\n",
              "        1.87875495e+00,  8.65503579e-01,  1.51686804e+00, -4.03120637e-01,\n",
              "       -1.15937528e-01,  1.00817137e-01, -1.30414421e+00, -1.30271711e+00,\n",
              "        2.06261935e-01, -3.28975804e-01, -8.74861988e-03, -1.11166511e+00,\n",
              "        6.41257707e-01,  1.37630666e+00,  4.24282093e-01, -4.45317922e-01,\n",
              "        8.47245057e-01,  8.49322092e-01,  2.87918379e-01, -8.78248430e-01])"
            ]
          },
          "metadata": {},
          "execution_count": 10
        }
      ]
    },
    {
      "cell_type": "markdown",
      "source": [
        "# Slide 34"
      ],
      "metadata": {
        "id": "ioWyqe_gjieM"
      }
    },
    {
      "cell_type": "code",
      "source": [
        "alpha = 0.05\n",
        "sample_size = 300\n",
        "x = stats.norm.rvs(loc=0.0, scale=1.0, size=sample_size)\n",
        "print(pg.ttest(x, 0))\n",
        "p_value = pg.ttest(x, 0)['p-val'].iloc[0] # Note .iloc[0] returns only True/False\n",
        "reject_null = (p_value < alpha)\n",
        "print(reject_null) # true in about alpha=5% of cases"
      ],
      "metadata": {
        "id": "9cLraDTujlwk",
        "colab": {
          "base_uri": "https://localhost:8080/"
        },
        "outputId": "9bf1d4df-437d-400e-9b3f-9a5bb79ef489"
      },
      "execution_count": null,
      "outputs": [
        {
          "output_type": "stream",
          "name": "stdout",
          "text": [
            "               T  dof alternative     p-val          CI95%   cohen-d  BF10  \\\n",
            "T-test  1.031705  299   two-sided  0.303044  [-0.06, 0.19]  0.059566  0.11   \n",
            "\n",
            "           power  \n",
            "T-test  0.177182  \n",
            "False\n"
          ]
        }
      ]
    },
    {
      "cell_type": "markdown",
      "source": [
        "# Slide 37"
      ],
      "metadata": {
        "id": "AMhOkEGQkG1N"
      }
    },
    {
      "cell_type": "code",
      "source": [
        "sample_size = 100\n",
        "effect = 0.3\n",
        "std = 1\n",
        "alpha = 0.05\n",
        "replications = 500\n",
        "rejections = np.zeros(replications)\n",
        "for i in range(0, replications):\n",
        "    x = stats.norm.rvs(loc=effect, scale=std, size=sample_size)\n",
        "    if pg.ttest(x, 0)['p-val'].iloc[0] < alpha:\n",
        "        rejections[i] = 1\n",
        "print(np.mean(rejections))  # power\n",
        "\n"
      ],
      "metadata": {
        "id": "1DSxiRTUkGdt",
        "colab": {
          "base_uri": "https://localhost:8080/"
        },
        "outputId": "865f31d5-5d65-4c84-db00-7f654585bb47"
      },
      "execution_count": null,
      "outputs": [
        {
          "output_type": "stream",
          "name": "stdout",
          "text": [
            "0.83\n"
          ]
        }
      ]
    },
    {
      "cell_type": "markdown",
      "source": [
        "# Slide 40"
      ],
      "metadata": {
        "id": "_p8ZUm1vlyO_"
      }
    },
    {
      "cell_type": "code",
      "source": [
        "# Parametric, nonparametric and nominal test\n",
        "\n",
        "# For correct behavior of the pg.wilcoxon function, you might have to run this line:\n",
        "# pip install --user --upgrade pingouin\n",
        "\n",
        "n = 100\n",
        "effect = .3\n",
        "std = 1\n",
        "x = stats.norm.rvs(loc=effect, scale=std, size=n)\n",
        "pg.ttest(x, 0)  # one-sample t-test\n",
        "pg.ttest(x, 0)['p-val']\n",
        "\n",
        "pg.wilcoxon(x)  # nonparametric, based on ranks (no normal distribution assumed)\n",
        "pg.wilcoxon(x)['p-val']\n",
        "\n",
        "stats.binomtest(np.sum(x > 0), n)  # binomial test, no assumptions at all!\n",
        "\n",
        "# Note this is not exactly the same as the prop.test() R function but is very close\n",
        "# Note also that this Python function only returns the p-value and no other values"
      ],
      "metadata": {
        "id": "UqS3cTY1nLHY",
        "colab": {
          "base_uri": "https://localhost:8080/"
        },
        "outputId": "82ba59a8-4173-46dc-e9cc-dc52908f09a0"
      },
      "execution_count": null,
      "outputs": [
        {
          "output_type": "execute_result",
          "data": {
            "text/plain": [
              "BinomTestResult(k=62, n=100, alternative='two-sided', statistic=0.62, pvalue=0.02097873567785172)"
            ]
          },
          "metadata": {},
          "execution_count": 46
        }
      ]
    },
    {
      "cell_type": "markdown",
      "source": [
        "# Slide 43"
      ],
      "metadata": {
        "id": "ylqBRJIYno7n"
      }
    },
    {
      "cell_type": "code",
      "source": [
        "def my_t_test(x, mu=0):\n",
        "    # Note that sd() in R and np.std() have different default denominators, n-1 in R and n in Python\n",
        "    t = (np.mean(x) - mu) / (np.std(x, ddof=1) / np.sqrt(np.size(x)))\n",
        "    df = np.size(x) - 1  # Degrees of freedom\n",
        "    p = 2 * stats.t.cdf(-np.abs(t), df)  # p-value , a bit tricky!\n",
        "    dictionary = {'t': t, 'df': df, 'p_value': p}  # place stats in on Python dictionary\n",
        "    return dictionary\n",
        "\n",
        "\n",
        "x = stats.norm.rvs(loc=0, scale=1, size=100)\n",
        "\n",
        "print(my_t_test(x))\n",
        "print(pg.ttest(x, 0)['p-val'])  # compare\n"
      ],
      "metadata": {
        "id": "cYgIGA3RnqRH",
        "colab": {
          "base_uri": "https://localhost:8080/"
        },
        "outputId": "ffb2b01b-4dfe-451b-97bc-eaefdc0c8dd0"
      },
      "execution_count": null,
      "outputs": [
        {
          "output_type": "stream",
          "name": "stdout",
          "text": [
            "{'t': 1.4487495902187633, 'df': 99, 'p_value': 0.15056756101124483}\n",
            "T-test    0.150568\n",
            "Name: p-val, dtype: float64\n"
          ]
        }
      ]
    },
    {
      "cell_type": "markdown",
      "source": [
        "# Slide 50"
      ],
      "metadata": {
        "id": "lsBb88Clo0lP"
      }
    },
    {
      "cell_type": "code",
      "source": [
        "np.random.seed(4)\n",
        "N = 10\n",
        "x = np.linspace(0, 2, N)\n",
        "y1 = 3 - .2 * x + .5 * x ** 2 + stats.norm.rvs(0, 0.4, N)  # normally distributed noise, note that x**2 in Python is x^2\n",
        "design_matrix2 = np.vstack(\n",
        "    (np.ones(N), x, x ** 2)).T  # In Python it's easier to specify the DESIGN MATRIX of a polynomial\n",
        "m2 = sm.OLS(y1, design_matrix2)  # Regression with user-defined polynomial predictors\n",
        "results2 = m2.fit()\n",
        "print(results2.summary())  # Note you need the extra () after ‘summary’ to call the function summary()\n",
        "plt.figure()\n",
        "plt.scatter(x, y1)\n",
        "pred2 = results2.predict()\n",
        "plt.plot(x, pred2, color='k')"
      ],
      "metadata": {
        "id": "w3CO-miJo4EH",
        "colab": {
          "base_uri": "https://localhost:8080/",
          "height": 963
        },
        "outputId": "b82e19b5-4f81-4ab2-fdec-8512f85b8675"
      },
      "execution_count": null,
      "outputs": [
        {
          "output_type": "stream",
          "name": "stdout",
          "text": [
            "                            OLS Regression Results                            \n",
            "==============================================================================\n",
            "Dep. Variable:                      y   R-squared:                       0.734\n",
            "Model:                            OLS   Adj. R-squared:                  0.658\n",
            "Method:                 Least Squares   F-statistic:                     9.642\n",
            "Date:                Mon, 02 Sep 2024   Prob (F-statistic):            0.00975\n",
            "Time:                        20:43:53   Log-Likelihood:                -2.1184\n",
            "No. Observations:                  10   AIC:                             10.24\n",
            "Df Residuals:                       7   BIC:                             11.14\n",
            "Df Model:                           2                                         \n",
            "Covariance Type:            nonrobust                                         \n",
            "==============================================================================\n",
            "                 coef    std err          t      P>|t|      [0.025      0.975]\n",
            "------------------------------------------------------------------------------\n",
            "const          3.0563      0.281     10.875      0.000       2.392       3.721\n",
            "x1            -0.5059      0.654     -0.773      0.465      -2.053       1.042\n",
            "x2             0.6029      0.315      1.914      0.097      -0.142       1.348\n",
            "==============================================================================\n",
            "Omnibus:                        1.551   Durbin-Watson:                   2.265\n",
            "Prob(Omnibus):                  0.460   Jarque-Bera (JB):                0.751\n",
            "Skew:                          -0.082   Prob(JB):                        0.687\n",
            "Kurtosis:                       1.668   Cond. No.                         16.0\n",
            "==============================================================================\n",
            "\n",
            "Notes:\n",
            "[1] Standard Errors assume that the covariance matrix of the errors is correctly specified.\n"
          ]
        },
        {
          "output_type": "stream",
          "name": "stderr",
          "text": [
            "/usr/local/lib/python3.10/dist-packages/scipy/stats/_axis_nan_policy.py:531: UserWarning: kurtosistest only valid for n>=20 ... continuing anyway, n=10\n",
            "  res = hypotest_fun_out(*samples, **kwds)\n"
          ]
        },
        {
          "output_type": "execute_result",
          "data": {
            "text/plain": [
              "[<matplotlib.lines.Line2D at 0x79b77bbd5480>]"
            ]
          },
          "metadata": {},
          "execution_count": 37
        },
        {
          "output_type": "display_data",
          "data": {
            "text/plain": [
              "<Figure size 640x480 with 1 Axes>"
            ],
            "image/png": "[encoded data removed]"
          },
          "metadata": {}
        }
      ]
    },
    {
      "cell_type": "markdown",
      "source": [
        "# Slide 52"
      ],
      "metadata": {
        "id": "j_rpDupo08vz"
      }
    },
    {
      "cell_type": "code",
      "source": [
        "x = stats.norm.rvs(0, 1, 1000)\n",
        "logit = 1 + 1 * x  # make logit data\n",
        "y = (stats.uniform.rvs(0, 1, 1000) < stats.logistic.cdf(logit))\n",
        "g = sm.GLM(y, x, family=sm.families.Binomial()).fit()\n",
        "print(g.summary())  # results"
      ],
      "metadata": {
        "id": "8dhJPOVB1JeI",
        "colab": {
          "base_uri": "https://localhost:8080/"
        },
        "outputId": "a1add8a3-c08a-43df-8c12-10372494a0aa"
      },
      "execution_count": null,
      "outputs": [
        {
          "output_type": "stream",
          "name": "stdout",
          "text": [
            "                 Generalized Linear Model Regression Results                  \n",
            "==============================================================================\n",
            "Dep. Variable:                      y   No. Observations:                 1000\n",
            "Model:                            GLM   Df Residuals:                      999\n",
            "Model Family:                Binomial   Df Model:                            0\n",
            "Link Function:                  Logit   Scale:                          1.0000\n",
            "Method:                          IRLS   Log-Likelihood:                -625.06\n",
            "Date:                Mon, 02 Sep 2024   Deviance:                       1250.1\n",
            "Time:                        20:47:43   Pearson chi2:                     996.\n",
            "No. Iterations:                     4   Pseudo R-squ. (CS):           0.002103\n",
            "Covariance Type:            nonrobust                                         \n",
            "==============================================================================\n",
            "                 coef    std err          z      P>|z|      [0.025      0.975]\n",
            "------------------------------------------------------------------------------\n",
            "x1             0.8376      0.079     10.560      0.000       0.682       0.993\n",
            "==============================================================================\n"
          ]
        }
      ]
    },
    {
      "cell_type": "markdown",
      "source": [
        "# Slide 55"
      ],
      "metadata": {
        "id": "aNZTPEr-1jcc"
      }
    },
    {
      "cell_type": "code",
      "source": [
        "np.random.seed(1)\n",
        "plt.figure()\n",
        "plt.subplot(2, 1, 1)\n",
        "N = 11\n",
        "x = np.linspace(0, 2, N)\n",
        "y1 = 3 + 1 * x + stats.norm.rvs(0, 1, N)  # original sample\n",
        "y2 = 3 + 1 * x + stats.norm.rvs(0, 1, N)  # cross-validation sample\n",
        "# y1 = 3 + 1*x - x**2 + x**3 + stats.norm.rvs(0, 1, N)  # original sample\n",
        "# y2 = 3 + 1*x - x**2 + x**3 + stats.norm.rvs(0, 1, N)  # cross-validation sample\n",
        "plt.scatter(x, y1)\n",
        "design_matrix1 = np.vstack((np.ones(N), x)).T\n",
        "design_matrix3 = np.vstack((np.ones(N), x, x ** 2, x ** 3)).T\n",
        "lm1 = sm.OLS(y1, design_matrix1)\n",
        "results1 = lm1.fit()\n",
        "pred1 = results1.predict()\n",
        "lm3 = sm.OLS(y1, design_matrix3)\n",
        "results3 = lm3.fit()\n",
        "pred3 = results3.predict()\n",
        "plt.plot(x, pred1, color='r')\n",
        "plt.plot(x, pred3, color='k')\n",
        "r2_1 = np.round(1 - (np.var(pred1 - y1, ddof=1) / np.var(y1, ddof=1)), 2)\n",
        "r2_3 = np.round(1 - (np.var(pred3 - y1, ddof=1) / np.var(y1, ddof=1)), 2)\n",
        "plt.legend([('Data'),('m1 r2=%.2f' % r2_1), ('m3 r2=%.2f' % r2_3)])"
      ],
      "metadata": {
        "id": "tdM0-mF31n55",
        "colab": {
          "base_uri": "https://localhost:8080/",
          "height": 246
        },
        "outputId": "6ef20b57-6b56-44cc-a136-0cbf68df5976"
      },
      "execution_count": null,
      "outputs": [
        {
          "output_type": "execute_result",
          "data": {
            "text/plain": [
              "<matplotlib.legend.Legend at 0x79b77bb3c430>"
            ]
          },
          "metadata": {},
          "execution_count": 41
        },
        {
          "output_type": "display_data",
          "data": {
            "text/plain": [
              "<Figure size 640x480 with 1 Axes>"
            ],
            "image/png": "[encoded data removed]"
          },
          "metadata": {}
        }
      ]
    },
    {
      "cell_type": "markdown",
      "source": [
        "# Slide 56"
      ],
      "metadata": {
        "id": "mQatz0Nm18Y6"
      }
    },
    {
      "cell_type": "code",
      "source": [
        "plt.subplot(2, 1, 2)\n",
        "plt.scatter(x, y2)\n",
        "plt.plot(x, pred1, color='b')\n",
        "plt.plot(x, pred3, color='r')\n",
        "r2_1 = np.round(1 - (np.var(pred1 - y2, ddof=1) / np.var(y2, ddof=1)), 2)\n",
        "r2_3 = np.round(1 - (np.var(pred3 - y2, ddof=1) / np.var(y2, ddof=1)), 2)\n",
        "plt.legend([('Data'),('m1 r2=%.2f' % r2_1), ('m3 r2=%.2f' % r2_3)])\n",
        "\n",
        "print(results1.aic)\n",
        "print(results3.aic)  # lower is better!\n",
        "print(results1.bic)\n",
        "print(results3.bic)  # lower is better!"
      ],
      "metadata": {
        "id": "m20HRHQ_1-Ty",
        "colab": {
          "base_uri": "https://localhost:8080/",
          "height": 299
        },
        "outputId": "0d6fa857-8316-4196-b785-8dc3a86dd44b"
      },
      "execution_count": null,
      "outputs": [
        {
          "output_type": "stream",
          "name": "stdout",
          "text": [
            "39.47035006844236\n",
            "40.69503335205868\n",
            "40.2661406140391\n",
            "42.28661444325216\n"
          ]
        },
        {
          "output_type": "display_data",
          "data": {
            "text/plain": [
              "<Figure size 640x480 with 1 Axes>"
            ],
            "image/png": "[encoded data removed]"
          },
          "metadata": {}
        }
      ]
    },
    {
      "cell_type": "markdown",
      "source": [
        "# Slide 60"
      ],
      "metadata": {
        "id": "jiH4Be2l4qv9"
      }
    },
    {
      "cell_type": "code",
      "source": [
        "np.random.seed(1)\n",
        "n = 100\n",
        "x = stats.norm.rvs(0, 1, n)\n",
        "lower = np.mean(x) - 1.96 * np.std(x, ddof=1) / np.sqrt(n)\n",
        "upper = np.mean(x) + 1.96 * np.std(x, ddof=1) / np.sqrt(n)\n",
        "print(np.array([lower, upper]))\n",
        "print(pg.ttest(x, 0)['CI95%'])  # compare"
      ],
      "metadata": {
        "colab": {
          "base_uri": "https://localhost:8080/"
        },
        "id": "nUoAVJa61Gda",
        "outputId": "ebe52ebc-8274-45bf-b836-1123cd0b3121"
      },
      "execution_count": null,
      "outputs": [
        {
          "output_type": "stream",
          "name": "stdout",
          "text": [
            "[-0.11378178  0.23494748]\n",
            "T-test    [-0.12, 0.24]\n",
            "Name: CI95%, dtype: object\n"
          ]
        }
      ]
    },
    {
      "cell_type": "code",
      "source": [
        "# Bootstrap\n",
        "np.random.seed(1)\n",
        "n = 100\n",
        "x = stats.norm.rvs(0, 1, n)\n",
        "replications = 1000\n",
        "means = np.empty(replications)  # Create an ''empty'' vector to place numbers into it within a loop\n",
        "for i in range(replications):\n",
        "    means[i] = np.mean(np.random.choice(x, n))\n",
        "m = np.sort(means)\n",
        "print(\n",
        "    np.array([m[int(0.025 * replications)], m[int(0.975 * replications)]]))  # compare, int() is to convert to integers\n"
      ],
      "metadata": {
        "id": "Ajsb6H_746pi",
        "colab": {
          "base_uri": "https://localhost:8080/"
        },
        "outputId": "46ad3585-93d0-407a-cfc7-94641e07d608"
      },
      "execution_count": null,
      "outputs": [
        {
          "output_type": "stream",
          "name": "stdout",
          "text": [
            "[-0.11277988  0.24276233]\n"
          ]
        }
      ]
    },
    {
      "cell_type": "markdown",
      "source": [
        "# Slide 63"
      ],
      "metadata": {
        "id": "LBXnk1Ui5Q4M"
      }
    },
    {
      "cell_type": "code",
      "source": [
        "np.random.seed(1)\n",
        "n = 100\n",
        "x = np.log(stats.norm.rvs(5, 1, n))\n",
        "plt.figure()\n",
        "plt.hist(x)\n",
        "\n",
        "print(stats.skew(x))  # Note that this definition of skewness is different to default R\n",
        "replications = 1000\n",
        "skews = np.empty(replications)\n",
        "for i in range(replications):\n",
        "    skews[i] = stats.skew(np.random.choice(x, n))\n",
        "s = np.sort(skews)\n",
        "print(np.array([s[int(0.025 * replications)], s[int(0.975 * replications)]]))"
      ],
      "metadata": {
        "id": "FUZ6bu4v5TFM",
        "colab": {
          "base_uri": "https://localhost:8080/",
          "height": 465
        },
        "outputId": "0d1530c0-d91b-4411-90bc-d98e1a39c1b6"
      },
      "execution_count": null,
      "outputs": [
        {
          "output_type": "stream",
          "name": "stdout",
          "text": [
            "-0.6215364777503631\n",
            "[-1.07399139  0.04072386]\n"
          ]
        },
        {
          "output_type": "display_data",
          "data": {
            "text/plain": [
              "<Figure size 640x480 with 1 Axes>"
            ],
            "image/png": "[encoded data removed]"
          },
          "metadata": {}
        }
      ]
    }
  ]
}